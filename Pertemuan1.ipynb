{
  "nbformat": 4,
  "nbformat_minor": 0,
  "metadata": {
    "colab": {
      "provenance": [],
      "authorship_tag": "ABX9TyNQsaAE/npYgoW4hi9D7CUu",
      "include_colab_link": true
    },
    "kernelspec": {
      "name": "python3",
      "display_name": "Python 3"
    },
    "language_info": {
      "name": "python"
    }
  },
  "cells": [
    {
      "cell_type": "markdown",
      "metadata": {
        "id": "view-in-github",
        "colab_type": "text"
      },
      "source": [
        "<a href=\"https://colab.research.google.com/github/SamuelMatthew31/CV/blob/main/Pertemuan1.ipynb\" target=\"_parent\"><img src=\"https://colab.research.google.com/assets/colab-badge.svg\" alt=\"Open In Colab\"/></a>"
      ]
    },
    {
      "cell_type": "code",
      "execution_count": null,
      "metadata": {
        "id": "K4oFwYTOahDM"
      },
      "outputs": [],
      "source": [
        "print(\"Hello world!\")\n",
        "print(\"My name is Samuel Matthew\")\n",
        "\n",
        "age = 20\n",
        "birth_place = \"Jakarta\"\n",
        "\n",
        "print(\"I'm {age} years old and i was born in {birth_place}\")"
      ]
    },
    {
      "cell_type": "code",
      "source": [],
      "metadata": {
        "id": "r4CELymzbBH_"
      },
      "execution_count": null,
      "outputs": []
    }
  ]
}